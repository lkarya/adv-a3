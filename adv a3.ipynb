{
 "cells": [
  {
   "cell_type": "code",
   "execution_count": 2,
   "id": "312d31b2",
   "metadata": {},
   "outputs": [],
   "source": [
    "# 1. What is the concept of an abstract superclass?\n",
    "\n",
    "#A An abstract superclass is one way to provide re-usable code. You can extend the abstract class and inherit the code. This is sometimes more convenient than using static methods or object composition to share code. The abstract class can \"fix\" parts of the code (by making it final)."
   ]
  },
  {
   "cell_type": "code",
   "execution_count": 3,
   "id": "13887f19",
   "metadata": {},
   "outputs": [],
   "source": [
    "# 2. What happens when a class statement top level contains a basic assignment statement?\n",
    "\n",
    "#A An assignment statement sets the current value of a variable, field, parameter, or element.\n"
   ]
  },
  {
   "cell_type": "code",
   "execution_count": 4,
   "id": "a42e695f",
   "metadata": {},
   "outputs": [],
   "source": [
    "# 3. Why does a class need to manually call a superclass&#39;s __init__ method?\n",
    "\n",
    "#A The main reason for always calling base class _init__ is that base class may typically create member variable and initialize them to defaults. "
   ]
  },
  {
   "cell_type": "code",
   "execution_count": 7,
   "id": "f5a23cc9",
   "metadata": {},
   "outputs": [],
   "source": [
    "# 4. How can you augment, instead of completely replacing, an inherited method?\n",
    "\n",
    "class Spam:\n",
    "    def update(self):\n",
    "        print('updating spam!')\n"
   ]
  },
  {
   "cell_type": "code",
   "execution_count": null,
   "id": "75cc1ae0",
   "metadata": {},
   "outputs": [],
   "source": [
    "# 5. How is the local scope of a class different from that of a function?\n",
    "\n",
    "class Test:\n",
    "    a = None\n",
    "    b = None\n",
    "\n",
    "    def __init__(self, a):\n",
    "        print self.a\n",
    "        self.a = a\n",
    "        self._x = 123\n",
    "        self.__y = 123\n",
    "        b = 'meow' "
   ]
  }
 ],
 "metadata": {
  "kernelspec": {
   "display_name": "Python 3 (ipykernel)",
   "language": "python",
   "name": "python3"
  },
  "language_info": {
   "codemirror_mode": {
    "name": "ipython",
    "version": 3
   },
   "file_extension": ".py",
   "mimetype": "text/x-python",
   "name": "python",
   "nbconvert_exporter": "python",
   "pygments_lexer": "ipython3",
   "version": "3.9.7"
  }
 },
 "nbformat": 4,
 "nbformat_minor": 5
}
